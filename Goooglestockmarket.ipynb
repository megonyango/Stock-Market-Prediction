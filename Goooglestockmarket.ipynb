{
 "cells": [
  {
   "cell_type": "code",
   "execution_count": 1,
   "metadata": {},
   "outputs": [],
   "source": [
    "import numpy as np\n",
    "import pandas as pd\n",
    "import matplotlib.pyplot as plt\n",
    "import seaborn as sns\n",
    "\n",
    "%matplotlib inline"
   ]
  },
  {
   "cell_type": "code",
   "execution_count": 2,
   "metadata": {},
   "outputs": [],
   "source": [
    "stock_data_test=pd.read_csv('GOOG.csv')\n",
    "stock_data_train=pd.read_csv('GOOG old.csv')"
   ]
  },
  {
   "cell_type": "code",
   "execution_count": 3,
   "metadata": {},
   "outputs": [
    {
     "data": {
      "text/html": [
       "<div>\n",
       "<style scoped>\n",
       "    .dataframe tbody tr th:only-of-type {\n",
       "        vertical-align: middle;\n",
       "    }\n",
       "\n",
       "    .dataframe tbody tr th {\n",
       "        vertical-align: top;\n",
       "    }\n",
       "\n",
       "    .dataframe thead th {\n",
       "        text-align: right;\n",
       "    }\n",
       "</style>\n",
       "<table border=\"1\" class=\"dataframe\">\n",
       "  <thead>\n",
       "    <tr style=\"text-align: right;\">\n",
       "      <th></th>\n",
       "      <th>Date</th>\n",
       "      <th>Open</th>\n",
       "      <th>High</th>\n",
       "      <th>Low</th>\n",
       "      <th>Close</th>\n",
       "      <th>Adj Close</th>\n",
       "      <th>Volume</th>\n",
       "    </tr>\n",
       "  </thead>\n",
       "  <tbody>\n",
       "    <tr>\n",
       "      <th>247</th>\n",
       "      <td>2021-07-01</td>\n",
       "      <td>2496.995117</td>\n",
       "      <td>2529.250000</td>\n",
       "      <td>2496.995117</td>\n",
       "      <td>2527.370117</td>\n",
       "      <td>2527.370117</td>\n",
       "      <td>856000</td>\n",
       "    </tr>\n",
       "    <tr>\n",
       "      <th>248</th>\n",
       "      <td>2021-07-02</td>\n",
       "      <td>2536.790039</td>\n",
       "      <td>2576.959961</td>\n",
       "      <td>2535.379883</td>\n",
       "      <td>2574.379883</td>\n",
       "      <td>2574.379883</td>\n",
       "      <td>1058000</td>\n",
       "    </tr>\n",
       "    <tr>\n",
       "      <th>249</th>\n",
       "      <td>2021-07-06</td>\n",
       "      <td>2588.989990</td>\n",
       "      <td>2597.689941</td>\n",
       "      <td>2568.179932</td>\n",
       "      <td>2595.419922</td>\n",
       "      <td>2595.419922</td>\n",
       "      <td>1067500</td>\n",
       "    </tr>\n",
       "    <tr>\n",
       "      <th>250</th>\n",
       "      <td>2021-07-07</td>\n",
       "      <td>2606.820068</td>\n",
       "      <td>2612.798096</td>\n",
       "      <td>2595.199951</td>\n",
       "      <td>2601.550049</td>\n",
       "      <td>2601.550049</td>\n",
       "      <td>834000</td>\n",
       "    </tr>\n",
       "    <tr>\n",
       "      <th>251</th>\n",
       "      <td>2021-07-08</td>\n",
       "      <td>2565.000000</td>\n",
       "      <td>2600.649902</td>\n",
       "      <td>2560.800049</td>\n",
       "      <td>2583.540039</td>\n",
       "      <td>2583.540039</td>\n",
       "      <td>988300</td>\n",
       "    </tr>\n",
       "  </tbody>\n",
       "</table>\n",
       "</div>"
      ],
      "text/plain": [
       "           Date         Open         High          Low        Close  \\\n",
       "247  2021-07-01  2496.995117  2529.250000  2496.995117  2527.370117   \n",
       "248  2021-07-02  2536.790039  2576.959961  2535.379883  2574.379883   \n",
       "249  2021-07-06  2588.989990  2597.689941  2568.179932  2595.419922   \n",
       "250  2021-07-07  2606.820068  2612.798096  2595.199951  2601.550049   \n",
       "251  2021-07-08  2565.000000  2600.649902  2560.800049  2583.540039   \n",
       "\n",
       "       Adj Close   Volume  \n",
       "247  2527.370117   856000  \n",
       "248  2574.379883  1058000  \n",
       "249  2595.419922  1067500  \n",
       "250  2601.550049   834000  \n",
       "251  2583.540039   988300  "
      ]
     },
     "execution_count": 3,
     "metadata": {},
     "output_type": "execute_result"
    }
   ],
   "source": [
    "stock_data_test.head()\n",
    "stock_data_test.tail()"
   ]
  },
  {
   "cell_type": "code",
   "execution_count": 4,
   "metadata": {},
   "outputs": [
    {
     "data": {
      "text/html": [
       "<div>\n",
       "<style scoped>\n",
       "    .dataframe tbody tr th:only-of-type {\n",
       "        vertical-align: middle;\n",
       "    }\n",
       "\n",
       "    .dataframe tbody tr th {\n",
       "        vertical-align: top;\n",
       "    }\n",
       "\n",
       "    .dataframe thead th {\n",
       "        text-align: right;\n",
       "    }\n",
       "</style>\n",
       "<table border=\"1\" class=\"dataframe\">\n",
       "  <thead>\n",
       "    <tr style=\"text-align: right;\">\n",
       "      <th></th>\n",
       "      <th>Date</th>\n",
       "      <th>Open</th>\n",
       "      <th>High</th>\n",
       "      <th>Low</th>\n",
       "      <th>Close</th>\n",
       "      <th>Adj Close</th>\n",
       "      <th>Volume</th>\n",
       "    </tr>\n",
       "  </thead>\n",
       "  <tbody>\n",
       "    <tr>\n",
       "      <th>1505</th>\n",
       "      <td>2021-07-02</td>\n",
       "      <td>2536.790039</td>\n",
       "      <td>2576.959961</td>\n",
       "      <td>2535.379883</td>\n",
       "      <td>2574.379883</td>\n",
       "      <td>2574.379883</td>\n",
       "      <td>1058000</td>\n",
       "    </tr>\n",
       "    <tr>\n",
       "      <th>1506</th>\n",
       "      <td>2021-07-06</td>\n",
       "      <td>2588.989990</td>\n",
       "      <td>2597.689941</td>\n",
       "      <td>2568.179932</td>\n",
       "      <td>2595.419922</td>\n",
       "      <td>2595.419922</td>\n",
       "      <td>1067500</td>\n",
       "    </tr>\n",
       "    <tr>\n",
       "      <th>1507</th>\n",
       "      <td>2021-07-07</td>\n",
       "      <td>2606.820068</td>\n",
       "      <td>2612.798096</td>\n",
       "      <td>2595.199951</td>\n",
       "      <td>2601.550049</td>\n",
       "      <td>2601.550049</td>\n",
       "      <td>834000</td>\n",
       "    </tr>\n",
       "    <tr>\n",
       "      <th>1508</th>\n",
       "      <td>2021-07-08</td>\n",
       "      <td>2565.000000</td>\n",
       "      <td>2600.649902</td>\n",
       "      <td>2560.800049</td>\n",
       "      <td>2583.540039</td>\n",
       "      <td>2583.540039</td>\n",
       "      <td>989000</td>\n",
       "    </tr>\n",
       "    <tr>\n",
       "      <th>1509</th>\n",
       "      <td>2021-07-09</td>\n",
       "      <td>2578.889893</td>\n",
       "      <td>2596.989990</td>\n",
       "      <td>2578.870117</td>\n",
       "      <td>2591.489990</td>\n",
       "      <td>2591.489990</td>\n",
       "      <td>755300</td>\n",
       "    </tr>\n",
       "  </tbody>\n",
       "</table>\n",
       "</div>"
      ],
      "text/plain": [
       "            Date         Open         High          Low        Close  \\\n",
       "1505  2021-07-02  2536.790039  2576.959961  2535.379883  2574.379883   \n",
       "1506  2021-07-06  2588.989990  2597.689941  2568.179932  2595.419922   \n",
       "1507  2021-07-07  2606.820068  2612.798096  2595.199951  2601.550049   \n",
       "1508  2021-07-08  2565.000000  2600.649902  2560.800049  2583.540039   \n",
       "1509  2021-07-09  2578.889893  2596.989990  2578.870117  2591.489990   \n",
       "\n",
       "        Adj Close   Volume  \n",
       "1505  2574.379883  1058000  \n",
       "1506  2595.419922  1067500  \n",
       "1507  2601.550049   834000  \n",
       "1508  2583.540039   989000  \n",
       "1509  2591.489990   755300  "
      ]
     },
     "execution_count": 4,
     "metadata": {},
     "output_type": "execute_result"
    }
   ],
   "source": [
    "stock_data_train.head()\n",
    "stock_data_train.tail()"
   ]
  },
  {
   "cell_type": "code",
   "execution_count": 5,
   "metadata": {},
   "outputs": [
    {
     "name": "stdout",
     "output_type": "stream",
     "text": [
      "<class 'pandas.core.frame.DataFrame'>\n",
      "RangeIndex: 1510 entries, 0 to 1509\n",
      "Data columns (total 7 columns):\n",
      " #   Column     Non-Null Count  Dtype  \n",
      "---  ------     --------------  -----  \n",
      " 0   Date       1510 non-null   object \n",
      " 1   Open       1510 non-null   float64\n",
      " 2   High       1510 non-null   float64\n",
      " 3   Low        1510 non-null   float64\n",
      " 4   Close      1510 non-null   float64\n",
      " 5   Adj Close  1510 non-null   float64\n",
      " 6   Volume     1510 non-null   int64  \n",
      "dtypes: float64(5), int64(1), object(1)\n",
      "memory usage: 82.7+ KB\n"
     ]
    }
   ],
   "source": [
    "stock_data_train.info()"
   ]
  },
  {
   "cell_type": "code",
   "execution_count": 7,
   "metadata": {},
   "outputs": [],
   "source": [
    "#convert to date format\n",
    "stock_data_train['Date']=pd.to_datetime(stock_data_train['Date'])\n",
    "stock_data_test['Date']=pd.to_datetime(stock_data_test['Date'])"
   ]
  },
  {
   "cell_type": "code",
   "execution_count": 8,
   "metadata": {},
   "outputs": [],
   "source": [
    "stock_data_train=stock_data_train.sort_values(by=['Date'],ascending=True)\n",
    "stock_data_test=stock_data_test.sort_values(by=['Date'],ascending=True)"
   ]
  },
  {
   "cell_type": "code",
   "execution_count": 10,
   "metadata": {},
   "outputs": [
    {
     "data": {
      "text/html": [
       "<div>\n",
       "<style scoped>\n",
       "    .dataframe tbody tr th:only-of-type {\n",
       "        vertical-align: middle;\n",
       "    }\n",
       "\n",
       "    .dataframe tbody tr th {\n",
       "        vertical-align: top;\n",
       "    }\n",
       "\n",
       "    .dataframe thead th {\n",
       "        text-align: right;\n",
       "    }\n",
       "</style>\n",
       "<table border=\"1\" class=\"dataframe\">\n",
       "  <thead>\n",
       "    <tr style=\"text-align: right;\">\n",
       "      <th></th>\n",
       "      <th>Date</th>\n",
       "      <th>Open</th>\n",
       "      <th>High</th>\n",
       "      <th>Low</th>\n",
       "      <th>Close</th>\n",
       "      <th>Adj Close</th>\n",
       "      <th>Volume</th>\n",
       "    </tr>\n",
       "  </thead>\n",
       "  <tbody>\n",
       "    <tr>\n",
       "      <th>0</th>\n",
       "      <td>2015-07-13</td>\n",
       "      <td>532.880005</td>\n",
       "      <td>547.109985</td>\n",
       "      <td>532.400024</td>\n",
       "      <td>546.549988</td>\n",
       "      <td>546.549988</td>\n",
       "      <td>2206500</td>\n",
       "    </tr>\n",
       "    <tr>\n",
       "      <th>1</th>\n",
       "      <td>2015-07-14</td>\n",
       "      <td>546.760010</td>\n",
       "      <td>565.848999</td>\n",
       "      <td>546.710022</td>\n",
       "      <td>561.099976</td>\n",
       "      <td>561.099976</td>\n",
       "      <td>3244100</td>\n",
       "    </tr>\n",
       "    <tr>\n",
       "      <th>2</th>\n",
       "      <td>2015-07-15</td>\n",
       "      <td>560.130005</td>\n",
       "      <td>566.502991</td>\n",
       "      <td>556.789978</td>\n",
       "      <td>560.219971</td>\n",
       "      <td>560.219971</td>\n",
       "      <td>1784600</td>\n",
       "    </tr>\n",
       "    <tr>\n",
       "      <th>3</th>\n",
       "      <td>2015-07-16</td>\n",
       "      <td>565.119995</td>\n",
       "      <td>580.679993</td>\n",
       "      <td>565.000000</td>\n",
       "      <td>579.849976</td>\n",
       "      <td>579.849976</td>\n",
       "      <td>4768300</td>\n",
       "    </tr>\n",
       "    <tr>\n",
       "      <th>4</th>\n",
       "      <td>2015-07-17</td>\n",
       "      <td>649.000000</td>\n",
       "      <td>674.468018</td>\n",
       "      <td>645.000000</td>\n",
       "      <td>672.929993</td>\n",
       "      <td>672.929993</td>\n",
       "      <td>11164900</td>\n",
       "    </tr>\n",
       "  </tbody>\n",
       "</table>\n",
       "</div>"
      ],
      "text/plain": [
       "        Date        Open        High         Low       Close   Adj Close  \\\n",
       "0 2015-07-13  532.880005  547.109985  532.400024  546.549988  546.549988   \n",
       "1 2015-07-14  546.760010  565.848999  546.710022  561.099976  561.099976   \n",
       "2 2015-07-15  560.130005  566.502991  556.789978  560.219971  560.219971   \n",
       "3 2015-07-16  565.119995  580.679993  565.000000  579.849976  579.849976   \n",
       "4 2015-07-17  649.000000  674.468018  645.000000  672.929993  672.929993   \n",
       "\n",
       "     Volume  \n",
       "0   2206500  \n",
       "1   3244100  \n",
       "2   1784600  \n",
       "3   4768300  \n",
       "4  11164900  "
      ]
     },
     "execution_count": 10,
     "metadata": {},
     "output_type": "execute_result"
    }
   ],
   "source": [
    "stock_data_train.head()"
   ]
  },
  {
   "cell_type": "markdown",
   "metadata": {},
   "source": [
    "## PLOT OUR STOCK"
   ]
  },
  {
   "cell_type": "code",
   "execution_count": 11,
   "metadata": {},
   "outputs": [
    {
     "data": {
      "text/plain": [
       "<function matplotlib.pyplot.show(*args, **kw)>"
      ]
     },
     "execution_count": 11,
     "metadata": {},
     "output_type": "execute_result"
    },
    {
     "data": {
      "image/png": "[encoded data removed]",
      "text/plain": [
       "<Figure size 1080x504 with 1 Axes>"
      ]
     },
     "metadata": {
      "needs_background": "light"
     },
     "output_type": "display_data"
    }
   ],
   "source": [
    "plt.figure(figsize=(15,7))\n",
    "plt.plot(stock_data_train['Open'])\n",
    "plt.title(\"Google Stock Prices\")\n",
    "plt.xlabel(\"Time\")\n",
    "plt.ylabel(\"Stock Opening Price\")\n",
    "plt.show"
   ]
  },
  {
   "cell_type": "code",
   "execution_count": 12,
   "metadata": {},
   "outputs": [
    {
     "data": {
      "text/plain": [
       "<function matplotlib.pyplot.show(*args, **kw)>"
      ]
     },
     "execution_count": 12,
     "metadata": {},
     "output_type": "execute_result"
    },
    {
     "data": {
      "image/png": "[encoded data removed]",
      "text/plain": [
       "<Figure size 864x504 with 1 Axes>"
      ]
     },
     "metadata": {
      "needs_background": "light"
     },
     "output_type": "display_data"
    }
   ],
   "source": [
    "plt.figure(figsize=(12,7))\n",
    "plt.plot(stock_data_train['High'])\n",
    "plt.title(\"Google Stock Prices\")\n",
    "plt.xlabel(\"Time\")\n",
    "plt.ylabel(\"Stock High Price\")\n",
    "plt.show"
   ]
  },
  {
   "cell_type": "code",
   "execution_count": 13,
   "metadata": {},
   "outputs": [
    {
     "data": {
      "text/plain": [
       "<function matplotlib.pyplot.show(*args, **kw)>"
      ]
     },
     "execution_count": 13,
     "metadata": {},
     "output_type": "execute_result"
    },
    {
     "data": {
      "image/png": "[encoded data removed]",
      "text/plain": [
       "<Figure size 864x504 with 1 Axes>"
      ]
     },
     "metadata": {
      "needs_background": "light"
     },
     "output_type": "display_data"
    }
   ],
   "source": [
    "plt.figure(figsize=(12,7))\n",
    "plt.plot(stock_data_train['Low'])\n",
    "plt.title(\"Google Stock Prices\")\n",
    "plt.xlabel(\"Time\")\n",
    "plt.ylabel(\"Stock Low Price\")\n",
    "plt.show"
   ]
  },
  {
   "cell_type": "code",
   "execution_count": 14,
   "metadata": {},
   "outputs": [
    {
     "data": {
      "text/plain": [
       "Index(['Date', 'Open', 'High', 'Low', 'Close', 'Adj Close', 'Volume'], dtype='object')"
      ]
     },
     "execution_count": 14,
     "metadata": {},
     "output_type": "execute_result"
    }
   ],
   "source": [
    "## Feature ESelection\n",
    "\n",
    "stock_data_train.columns"
   ]
  },
  {
   "cell_type": "code",
   "execution_count": 15,
   "metadata": {},
   "outputs": [],
   "source": [
    "input_features=stock_data_train[['Open', 'High', 'Low', 'Close', 'Volume']]\n",
    "input_features_test=stock_data_train[['Open', 'High', 'Low', 'Close', 'Volume']]"
   ]
  },
  {
   "cell_type": "code",
   "execution_count": 16,
   "metadata": {},
   "outputs": [],
   "source": [
    "input_data = input_features.values\n",
    "input_data_test = input_features.values"
   ]
  },
  {
   "cell_type": "code",
   "execution_count": 17,
   "metadata": {},
   "outputs": [
    {
     "data": {
      "text/plain": [
       "array([[5.32880005e+02, 5.47109985e+02, 5.32400024e+02, 5.46549988e+02,\n",
       "        2.20650000e+06],\n",
       "       [5.46760010e+02, 5.65848999e+02, 5.46710022e+02, 5.61099976e+02,\n",
       "        3.24410000e+06],\n",
       "       [5.60130005e+02, 5.66502991e+02, 5.56789978e+02, 5.60219971e+02,\n",
       "        1.78460000e+06],\n",
       "       ...,\n",
       "       [2.60682007e+03, 2.61279810e+03, 2.59519995e+03, 2.60155005e+03,\n",
       "        8.34000000e+05],\n",
       "       [2.56500000e+03, 2.60064990e+03, 2.56080005e+03, 2.58354004e+03,\n",
       "        9.89000000e+05],\n",
       "       [2.57888989e+03, 2.59698999e+03, 2.57887012e+03, 2.59148999e+03,\n",
       "        7.55300000e+05]])"
      ]
     },
     "execution_count": 17,
     "metadata": {},
     "output_type": "execute_result"
    }
   ],
   "source": [
    "input_data"
   ]
  },
  {
   "cell_type": "code",
   "execution_count": 18,
   "metadata": {},
   "outputs": [
    {
     "data": {
      "text/plain": [
       "array([[5.32880005e+02, 5.47109985e+02, 5.32400024e+02, 5.46549988e+02,\n",
       "        2.20650000e+06],\n",
       "       [5.46760010e+02, 5.65848999e+02, 5.46710022e+02, 5.61099976e+02,\n",
       "        3.24410000e+06],\n",
       "       [5.60130005e+02, 5.66502991e+02, 5.56789978e+02, 5.60219971e+02,\n",
       "        1.78460000e+06],\n",
       "       ...,\n",
       "       [2.60682007e+03, 2.61279810e+03, 2.59519995e+03, 2.60155005e+03,\n",
       "        8.34000000e+05],\n",
       "       [2.56500000e+03, 2.60064990e+03, 2.56080005e+03, 2.58354004e+03,\n",
       "        9.89000000e+05],\n",
       "       [2.57888989e+03, 2.59698999e+03, 2.57887012e+03, 2.59148999e+03,\n",
       "        7.55300000e+05]])"
      ]
     },
     "execution_count": 18,
     "metadata": {},
     "output_type": "execute_result"
    }
   ],
   "source": [
    "input_data_test"
   ]
  },
  {
   "cell_type": "code",
   "execution_count": 19,
   "metadata": {},
   "outputs": [],
   "source": [
    "## Normalize our Data\n",
    "from sklearn.preprocessing import MinMaxScaler\n",
    "scaler=MinMaxScaler(feature_range=(0,1))"
   ]
  },
  {
   "cell_type": "code",
   "execution_count": 20,
   "metadata": {},
   "outputs": [],
   "source": [
    "input_data[:,:]=scaler.fit_transform(input_data[:,:])\n",
    "input_data_test[:,:]=scaler.fit_transform(input_data_test[:,:])"
   ]
  },
  {
   "cell_type": "code",
   "execution_count": 21,
   "metadata": {},
   "outputs": [
    {
     "data": {
      "text/plain": [
       "array([[0.        , 0.        , 0.        , 0.        , 0.17190634],\n",
       "       [0.00669258, 0.00907156, 0.00693717, 0.00708029, 0.26781967],\n",
       "       [0.01313924, 0.00938816, 0.01182371, 0.00665206, 0.13290689],\n",
       "       ...,\n",
       "       [1.        , 1.        , 1.        , 1.        , 0.04503563],\n",
       "       [0.97983545, 0.99411906, 0.98332368, 0.99123601, 0.05936347],\n",
       "       [0.9865328 , 0.99234729, 0.99208366, 0.99510459, 0.03776079]])"
      ]
     },
     "execution_count": 21,
     "metadata": {},
     "output_type": "execute_result"
    }
   ],
   "source": [
    "input_data[:,:]"
   ]
  },
  {
   "cell_type": "code",
   "execution_count": 22,
   "metadata": {},
   "outputs": [
    {
     "data": {
      "text/plain": [
       "array([[0.        , 0.        , 0.        , 0.        , 0.17190634],\n",
       "       [0.00669258, 0.00907156, 0.00693717, 0.00708029, 0.26781967],\n",
       "       [0.01313924, 0.00938816, 0.01182371, 0.00665206, 0.13290689],\n",
       "       ...,\n",
       "       [1.        , 1.        , 1.        , 1.        , 0.04503563],\n",
       "       [0.97983545, 0.99411906, 0.98332368, 0.99123601, 0.05936347],\n",
       "       [0.9865328 , 0.99234729, 0.99208366, 0.99510459, 0.03776079]])"
      ]
     },
     "execution_count": 22,
     "metadata": {},
     "output_type": "execute_result"
    }
   ],
   "source": [
    "input_data_test[:,:]"
   ]
  },
  {
   "cell_type": "markdown",
   "metadata": {},
   "source": [
    "## TRAIN TEST SPLIT"
   ]
  },
  {
   "cell_type": "code",
   "execution_count": 23,
   "metadata": {},
   "outputs": [],
   "source": [
    "def create_dataset(dataset,lookback=1):\n",
    "    dataX,dataY=[],[]\n",
    "    \n",
    "    for i in range(len(dataset)-lookback-1):\n",
    "        a=dataset[i:(i+lookback),0]\n",
    "        \n",
    "        dataX.append(a)\n",
    "        dataY.append(dataset[i+lookback,0])\n",
    "        \n",
    "        return np.array(dataX),np.array(dataY)"
   ]
  },
  {
   "cell_type": "code",
   "execution_count": 24,
   "metadata": {},
   "outputs": [],
   "source": [
    "trainX,trainY = create_dataset(input_data,lookback=1)"
   ]
  },
  {
   "cell_type": "code",
   "execution_count": 25,
   "metadata": {},
   "outputs": [],
   "source": [
    "testX,testY = create_dataset(input_data_test,lookback=1)"
   ]
  },
  {
   "cell_type": "code",
   "execution_count": 26,
   "metadata": {},
   "outputs": [],
   "source": [
    "trainX=np.reshape(trainX,(trainX.shape[0],1,trainX.shape[1]))"
   ]
  },
  {
   "cell_type": "code",
   "execution_count": null,
   "metadata": {},
   "outputs": [],
   "source": []
  },
  {
   "cell_type": "markdown",
   "metadata": {},
   "source": [
    "## Creating LSTM Model"
   ]
  },
  {
   "cell_type": "code",
   "execution_count": 35,
   "metadata": {},
   "outputs": [],
   "source": [
    "import tensorflow as tf\n",
    "from tensorflow import keras\n",
    "from tensorflow.keras import layers\n",
    "from keras.layers.core import Dense\n",
    "from keras.layers.recurrent import LSTM"
   ]
  },
  {
   "cell_type": "code",
   "execution_count": 36,
   "metadata": {},
   "outputs": [],
   "source": [
    "model=keras.Sequential()"
   ]
  },
  {
   "cell_type": "code",
   "execution_count": 37,
   "metadata": {},
   "outputs": [
    {
     "ename": "TypeError",
     "evalue": "__init__() missing 1 required positional argument: 'units'",
     "output_type": "error",
     "traceback": [
      "\u001b[0;31m---------------------------------------------------------------------------\u001b[0m",
      "\u001b[0;31mTypeError\u001b[0m                                 Traceback (most recent call last)",
      "\u001b[0;32m<ipython-input-37-e48ed8726503>\u001b[0m in \u001b[0;36m<module>\u001b[0;34m\u001b[0m\n\u001b[0;32m----> 1\u001b[0;31m \u001b[0mmodel\u001b[0m\u001b[0;34m.\u001b[0m\u001b[0madd\u001b[0m\u001b[0;34m(\u001b[0m\u001b[0mLSTM\u001b[0m\u001b[0;34m(\u001b[0m\u001b[0minput_dim\u001b[0m\u001b[0;34m=\u001b[0m\u001b[0;36m1\u001b[0m\u001b[0;34m,\u001b[0m\u001b[0moutput_dim\u001b[0m\u001b[0;34m=\u001b[0m\u001b[0;36m50\u001b[0m\u001b[0;34m,\u001b[0m\u001b[0mreturn_sequences\u001b[0m\u001b[0;34m=\u001b[0m\u001b[0;32mTrue\u001b[0m\u001b[0;34m)\u001b[0m\u001b[0;34m)\u001b[0m\u001b[0;34m\u001b[0m\u001b[0;34m\u001b[0m\u001b[0m\n\u001b[0m\u001b[1;32m      2\u001b[0m \u001b[0mmodel\u001b[0m\u001b[0;34m.\u001b[0m\u001b[0madd\u001b[0m\u001b[0;34m(\u001b[0m\u001b[0mDropout\u001b[0m\u001b[0;34m(\u001b[0m\u001b[0;36m0.2\u001b[0m\u001b[0;34m)\u001b[0m\u001b[0;34m)\u001b[0m\u001b[0;34m\u001b[0m\u001b[0;34m\u001b[0m\u001b[0m\n\u001b[1;32m      3\u001b[0m \u001b[0mmodel\u001b[0m\u001b[0;34m.\u001b[0m\u001b[0madd\u001b[0m\u001b[0;34m(\u001b[0m\u001b[0mLSTM\u001b[0m\u001b[0;34m(\u001b[0m\u001b[0;36m100\u001b[0m\u001b[0;34m,\u001b[0m\u001b[0mreturn_sequences\u001b[0m\u001b[0;34m=\u001b[0m\u001b[0;32mTrue\u001b[0m\u001b[0;34m)\u001b[0m\u001b[0;34m)\u001b[0m\u001b[0;34m\u001b[0m\u001b[0;34m\u001b[0m\u001b[0m\n\u001b[1;32m      4\u001b[0m \u001b[0mmodel\u001b[0m\u001b[0;34m.\u001b[0m\u001b[0madd\u001b[0m\u001b[0;34m(\u001b[0m\u001b[0mDropout\u001b[0m\u001b[0;34m(\u001b[0m\u001b[0;36m0.2\u001b[0m\u001b[0;34m)\u001b[0m\u001b[0;34m)\u001b[0m\u001b[0;34m\u001b[0m\u001b[0;34m\u001b[0m\u001b[0m\n\u001b[1;32m      5\u001b[0m \u001b[0mmodel\u001b[0m\u001b[0;34m.\u001b[0m\u001b[0madd\u001b[0m\u001b[0;34m(\u001b[0m\u001b[0mDense\u001b[0m\u001b[0;34m(\u001b[0m\u001b[0mouput_dim\u001b[0m\u001b[0;34m=\u001b[0m\u001b[0;36m1\u001b[0m\u001b[0;34m)\u001b[0m\u001b[0;34m)\u001b[0m\u001b[0;34m\u001b[0m\u001b[0;34m\u001b[0m\u001b[0m\n",
      "\u001b[0;31mTypeError\u001b[0m: __init__() missing 1 required positional argument: 'units'"
     ]
    }
   ],
   "source": [
    "model.add(LSTM(input_dim=1,output_dim=50,return_sequences=True))\n",
    "model.add(Dropout(0.2))\n",
    "model.add(LSTM(100,return_sequences=True))\n",
    "model.add(Dropout(0.2))\n",
    "model.add(Dense(ouput_dim=1))\n",
    "model.add(Activation('linear'))"
   ]
  },
  {
   "cell_type": "markdown",
   "metadata": {},
   "source": [
    "## compile model"
   ]
  },
  {
   "cell_type": "code",
   "execution_count": null,
   "metadata": {},
   "outputs": [],
   "source": [
    "model.compile(optimizer=\"rmsprop\",loss=\"mse\")"
   ]
  },
  {
   "cell_type": "code",
   "execution_count": null,
   "metadata": {},
   "outputs": [],
   "source": [
    "model.fit(trainX,trainY,batch_size=50,epochs=10)"
   ]
  },
  {
   "cell_type": "code",
   "execution_count": null,
   "metadata": {},
   "outputs": [],
   "source": [
    "# Get the models predicted price values \n",
    "predictions = model.predict(testX)"
   ]
  },
  {
   "cell_type": "code",
   "execution_count": null,
   "metadata": {},
   "outputs": [],
   "source": [
    "# Get the root mean squared error (RMSE)\n",
    "rmse = np.sqrt(np.mean(((predictions - testY) ** 2)))\n",
    "rmse"
   ]
  },
  {
   "cell_type": "code",
   "execution_count": null,
   "metadata": {},
   "outputs": [],
   "source": [
    "# Plot the data\n",
    "train = data[:training_data_len]\n",
    "valid['Predictions'] = predictions\n",
    "# Visualize the data\n",
    "plt.figure(figsize=(16,6))\n",
    "plt.title('Model')\n",
    "plt.xlabel('Date', fontsize=18)\n",
    "plt.ylabel('Close Price USD ($)', fontsize=18)\n",
    "plt.plot(train['Close'])\n",
    "plt.plot(valid[['Close', 'Predictions']])\n",
    "plt.legend(['Train', 'Val', 'Predictions'], loc='lower right')\n",
    "plt.show()"
   ]
  },
  {
   "cell_type": "code",
   "execution_count": null,
   "metadata": {},
   "outputs": [],
   "source": [
    "def plot_results_multiple(predicted_data, true_data,length):\n",
    "    plt.plot(scaler.inverse_transform(true_data.reshape(-1, 1))[length:])\n",
    "    plt.plot(scaler.inverse_transform(np.array(predicted_data).reshape(-1, 1))[length:])\n",
    "    plt.show()\n",
    "    \n",
    "#predict lenght consecutive values from a real one\n",
    "def predict_sequences_multiple(model, firstValue,length):\n",
    "    prediction_seqs = []\n",
    "    curr_frame = firstValue\n",
    "    \n",
    "    for i in range(length): \n",
    "        predicted = []        \n",
    "        \n",
    "        print(model.predict(curr_frame[newaxis,:,:]))\n",
    "        predicted.append(model.predict(curr_frame[newaxis,:,:])[0,0])\n",
    "        \n",
    "        curr_frame = curr_frame[0:]\n",
    "        curr_frame = np.insert(curr_frame[0:], i+1, predicted[-1], axis=0)\n",
    "        prediction_seqs.append(predicted[-1])\n",
    "        \n",
    "    return prediction_seqs\n",
    "\n"
   ]
  },
  {
   "cell_type": "code",
   "execution_count": null,
   "metadata": {},
   "outputs": [],
   "source": [
    "predict_length=5\n",
    "predictions = predict_sequences_multiple(model, testX[0], predict_length)\n",
    "print(scaler.inverse_transform(np.array(predictions).reshape(-1, 1)))\n",
    "plot_results_multiple(predictions, testY, predict_length)"
   ]
  },
  {
   "cell_type": "code",
   "execution_count": null,
   "metadata": {},
   "outputs": [],
   "source": [
    "from numpy import newaxis"
   ]
  },
  {
   "cell_type": "code",
   "execution_count": null,
   "metadata": {},
   "outputs": [],
   "source": []
  }
 ],
 "metadata": {
  "kernelspec": {
   "display_name": "Python 3",
   "language": "python",
   "name": "python3"
  },
  "language_info": {
   "codemirror_mode": {
    "name": "ipython",
    "version": 3
   },
   "file_extension": ".py",
   "mimetype": "text/x-python",
   "name": "python",
   "nbconvert_exporter": "python",
   "pygments_lexer": "ipython3",
   "version": "3.8.3"
  }
 },
 "nbformat": 4,
 "nbformat_minor": 4
}
